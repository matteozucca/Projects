{
 "cells": [
  {
   "cell_type": "markdown",
   "id": "1af34b28",
   "metadata": {},
   "source": [
    "<div style=\"text-align: center\"> <h1> Analysis of Sorting Algorithms </h1> </div>\n"
   ]
  },
  {
   "cell_type": "markdown",
   "id": "b0c46828",
   "metadata": {},
   "source": [
    "<div style=\"text-align: center\"> \n",
    "    <b>University</b>: Lund University  <br>\n",
    "    <b>Course</b>: Stan 48 - Programming for Data Science <br>\n",
    "    <b>Professor</b>: Krzysztof Podgórski <br>\n",
    "    <b>Student</b>: Matteo Zucca \n",
    "</div>"
   ]
  },
  {
   "cell_type": "markdown",
   "id": "01b4bcdb",
   "metadata": {},
   "source": [
    "## Table of contents"
   ]
  },
  {
   "cell_type": "markdown",
   "id": "538b743c",
   "metadata": {},
   "source": [
    "1. Introduction\n",
    "2. Sorting Algorithms <br>\n",
    "    2.1 Bubble Sort <br>\n",
    "    2.2 Selection Sort <br>\n",
    "    2.3 Insertion Sort <br>\n",
    "    2.4 Merge Sort <br>\n",
    "3. Benchmarking\n",
    "4. Graphical results\n",
    "5. Appendix: Big-O notation\n",
    "6. Conclusions\n",
    "7. Further developments\n"
   ]
  },
  {
   "cell_type": "markdown",
   "id": "f1518276",
   "metadata": {},
   "source": [
    "## Introduction"
   ]
  },
  {
   "cell_type": "markdown",
   "id": "603cb050",
   "metadata": {},
   "source": [
    "How do we sort a set of numbers? If the list isn't that long, probably we'll recursively search for the highest/lowest number and put it in the right place.\n",
    "\n",
    "Unfortunately if the set contains more than 20 numbers, the time required grows exponentially. \n",
    "\n",
    "Then we might need the help of a fully automated procedure. \n",
    "\n",
    "In other words: we need a set of simple instructions (an algorithm) and an hard worker that doesn't get tired of executing them repetitively (a computer)."
   ]
  },
  {
   "cell_type": "markdown",
   "id": "3b75e0ff",
   "metadata": {},
   "source": [
    "Now a new problem arises: which is the most effective way to teach a computer how to sort a set of numbers?\n",
    "\n",
    "The goals of this project is to answer the question above through:\n",
    "\n",
    "* Describing the functioning of four sorting algorithms\n",
    "* Analyzing their time complexity (theoritically and empirically)\n",
    "* Benchmarking the performances"
   ]
  },
  {
   "cell_type": "markdown",
   "id": "777a817a",
   "metadata": {},
   "source": [
    "#### Technical sidenote \n",
    "\n",
    "According to the suggetions of Python's creator Guido van Rossum, in the code below will be adopted the PEP8 coding style. This is consistent with what lots of companies (e.g. Google) do.\n",
    "\n",
    "Further information about PEP8 coding style:\n",
    "* https://peps.python.org/pep-0008/#naming-conventions\n",
    "* https://google.github.io/styleguide/pyguide.html#316-naming\n",
    "\n"
   ]
  },
  {
   "cell_type": "code",
   "execution_count": 12,
   "id": "73ac30f1",
   "metadata": {},
   "outputs": [],
   "source": [
    "import random\n",
    "import timeit\n",
    "import pandas as pd\n",
    "import matplotlib.pyplot as plt"
   ]
  },
  {
   "cell_type": "markdown",
   "id": "758e5be1",
   "metadata": {},
   "source": [
    "## Bubble Sort"
   ]
  },
  {
   "cell_type": "markdown",
   "id": "b6ca99e6",
   "metadata": {},
   "source": [
    "Bubble sort is the simplest sorting algorithm.\n",
    "\n",
    "It makes multiple passes through a list, comparing adjacent items and swapping them if they're out of order.\n",
    "\n",
    "After i-th pass, the i-th largest value will be in its proper place.\n",
    "\n",
    "Despite its simplicity, the Bubble Sort has one of the worst performance.\n",
    "\n",
    "However it has a peculiarity: can include an early stopping criteria."
   ]
  },
  {
   "cell_type": "markdown",
   "id": "f8da56cd",
   "metadata": {},
   "source": [
    "<img src=\"Images\\bubble-sort.png\" width= 400 height= 270 align = \"left\">"
   ]
  },
  {
   "cell_type": "code",
   "execution_count": 13,
   "id": "3afc4f10",
   "metadata": {},
   "outputs": [],
   "source": [
    "def bubble_sort(vect):\n",
    "    for still_to_order in range(len(vect) - 1, 0, -1):\n",
    "        \n",
    "        # Swap all unordered pairs of elements\n",
    "        for i in range(still_to_order):\n",
    "            if vect[i] > vect[i + 1]:\n",
    "                vect[i], vect[i + 1] = vect[i + 1], vect[i]\n",
    "                \n",
    "                # To improve the performance, count the \n",
    "                # number of swaps.\n",
    "                # If its zero, break the for loop: array is sorted\n",
    "                \n",
    "    return vect"
   ]
  },
  {
   "cell_type": "code",
   "execution_count": 14,
   "id": "da7a1507",
   "metadata": {},
   "outputs": [
    {
     "name": "stdout",
     "output_type": "stream",
     "text": [
      "[17, 72, 97, 8, 32, 15, 63, 57, 60, 83]\n"
     ]
    }
   ],
   "source": [
    "random.seed(1)\n",
    "vect_test = random.sample(range(0, 100), 10)\n",
    "print(vect_test)"
   ]
  },
  {
   "cell_type": "code",
   "execution_count": 15,
   "id": "c49d04cd",
   "metadata": {},
   "outputs": [
    {
     "name": "stdout",
     "output_type": "stream",
     "text": [
      "[8, 15, 17, 32, 57, 60, 63, 72, 83, 97]\n"
     ]
    }
   ],
   "source": [
    "print(bubble_sort(vect_test))"
   ]
  },
  {
   "cell_type": "markdown",
   "id": "7c31bd43",
   "metadata": {},
   "source": [
    "## Selection Sort"
   ]
  },
  {
   "cell_type": "markdown",
   "id": "5a183e63",
   "metadata": {},
   "source": [
    "The Selection Sort algorithm sorts an array by iteratively finding the maximum element from the unsorted part and putting it at the end.\n",
    "\n",
    "In every iteration of the selection sort, the maximum element from the unsorted subarray is picked and moved to the sorted subarray. \n",
    "\n",
    "This improves on the bubble sort by making only one exchange for every pass through the list. \n",
    "\n",
    "As with a bubble sort, after the first pass, the largest item is in the correct place. After the second pass, the next largest is in place. This process continues and requires n−1 passes to sort n items."
   ]
  },
  {
   "cell_type": "markdown",
   "id": "85ddbab4",
   "metadata": {},
   "source": [
    "<img src=\"Images\\selection-sort_2.png\" width= 400 height= 270 align = \"left\">"
   ]
  },
  {
   "cell_type": "code",
   "execution_count": 16,
   "id": "75fc5973",
   "metadata": {},
   "outputs": [],
   "source": [
    "def selection_sort(vect):\n",
    "    for still_to_order in range(len(vect) - 1, 0, -1):\n",
    "        position_of_max = 0\n",
    "        \n",
    "        # Find the maximum in the unsorted sub-array\n",
    "        for an_index in range(1, still_to_order + 1):\n",
    "            if vect[an_index] > vect[position_of_max]:\n",
    "                position_of_max = an_index\n",
    "                \n",
    "        # The element in position still_to_order has to contain the maximum of the subvector at its left\n",
    "        vect[still_to_order], vect[position_of_max] = vect[position_of_max], vect[still_to_order]\n",
    "    return vect"
   ]
  },
  {
   "cell_type": "code",
   "execution_count": 17,
   "id": "6cb15bbd",
   "metadata": {},
   "outputs": [
    {
     "name": "stdout",
     "output_type": "stream",
     "text": [
      "[7, 11, 10, 46, 21, 94, 85, 39, 32, 77]\n"
     ]
    }
   ],
   "source": [
    "random.seed(2)\n",
    "vect_test = random.sample(range(0, 100), 10)\n",
    "print(vect_test)"
   ]
  },
  {
   "cell_type": "code",
   "execution_count": 18,
   "id": "0f2e029a",
   "metadata": {},
   "outputs": [
    {
     "name": "stdout",
     "output_type": "stream",
     "text": [
      "[7, 10, 11, 21, 32, 39, 46, 77, 85, 94]\n"
     ]
    }
   ],
   "source": [
    "print(selection_sort(vect_test))"
   ]
  },
  {
   "cell_type": "markdown",
   "id": "eb538da8",
   "metadata": {},
   "source": [
    "## Insertion Sort"
   ]
  },
  {
   "cell_type": "markdown",
   "id": "5ac2b50b",
   "metadata": {},
   "source": [
    "Insertion Sort is similar to Selection Sort. It has a sorted sublist and each new item is then “inserted” back.\n",
    "\n",
    "When placing the new item, we shift those items that are greater to the right. When we reach a smaller item or the end of the sublist, the current item can be inserted.\n",
    "\n",
    "It's similar altough a bit more efficient than selection sort. The main difference between these two algorithms is that insertion sort scans backwards from the current key, while selection sort scans forwards."
   ]
  },
  {
   "cell_type": "markdown",
   "id": "d000001a",
   "metadata": {},
   "source": [
    "<img src=\"Images\\insertion-sort_2.png\" width= 400 height= 270 align = \"left\">"
   ]
  },
  {
   "cell_type": "code",
   "execution_count": 19,
   "id": "f3fcb63d",
   "metadata": {},
   "outputs": [],
   "source": [
    "def insertion_sort(vect):\n",
    "    for an_index in range(1, len(vect)):\n",
    "\n",
    "        # Consider the next element \n",
    "        current_value = vect[an_index]\n",
    "        position = an_index\n",
    "\n",
    "        # Find its position\n",
    "        while position > 0 and vect[position - 1] > current_value:\n",
    "            vect[position] = vect[position - 1]\n",
    "            position = position - 1\n",
    "        \n",
    "        # Insert the value\n",
    "        vect[position] = current_value\n",
    "        \n",
    "    return vect"
   ]
  },
  {
   "cell_type": "code",
   "execution_count": 20,
   "id": "ce3b1d73",
   "metadata": {},
   "outputs": [
    {
     "name": "stdout",
     "output_type": "stream",
     "text": [
      "[30, 75, 69, 16, 47, 77, 60, 80, 74, 8]\n"
     ]
    }
   ],
   "source": [
    "random.seed(3)\n",
    "vect_test = random.sample(range(0, 100), 10)\n",
    "print(vect_test)"
   ]
  },
  {
   "cell_type": "code",
   "execution_count": 21,
   "id": "df6b664e",
   "metadata": {},
   "outputs": [
    {
     "name": "stdout",
     "output_type": "stream",
     "text": [
      "[8, 16, 30, 47, 60, 69, 74, 75, 77, 80]\n"
     ]
    }
   ],
   "source": [
    "print(insertion_sort(vect_test))"
   ]
  },
  {
   "cell_type": "markdown",
   "id": "e8006004",
   "metadata": {},
   "source": [
    "## Merge Sort"
   ]
  },
  {
   "cell_type": "markdown",
   "id": "7a50088f",
   "metadata": {},
   "source": [
    "Merge sort is a recursive algorithm that recursively splits a list in half. It's based on a divide-and-conquer strategy and has been invented by John von Neumann back in 1945.\n",
    "\n",
    "A vector of one element is sorted by definition.\n",
    "\n",
    "Then we start merging pairs of vectors, sorting them at the same time.\n",
    "\n",
    "Merge Sort is one of the most efficient algorithms. This is because splitting recursively a list in half requires logarithmic time (ref. Binary Search), while sorting two smaller sorted sub-vectors takes linear time."
   ]
  },
  {
   "cell_type": "markdown",
   "id": "86373fa1",
   "metadata": {},
   "source": [
    "<img src=\"Images\\merge-sort.png\" width= 400 height= 270 align = \"left\">"
   ]
  },
  {
   "cell_type": "code",
   "execution_count": 22,
   "id": "09b079df",
   "metadata": {},
   "outputs": [],
   "source": [
    "def merge_sort(vect):\n",
    "    # print(\"Splitting \", vect)\n",
    "    if len(vect) > 1:\n",
    "        \n",
    "        # Split until we have lists of single number\n",
    "        mid = len(vect) // 2\n",
    "        left_half  = vect[:mid] # require extra space\n",
    "        right_half = vect[mid:]\n",
    "\n",
    "        merge_sort(left_half)\n",
    "        merge_sort(right_half)\n",
    "\n",
    "        # Start merging after last recursive call to merge_sort()\n",
    "        i = 0 # index left half\n",
    "        j = 0\n",
    "        k = 0 # index of the output\n",
    "        \n",
    "        while i < len(left_half) and j < len(right_half):\n",
    "            if left_half[i] < right_half[j]:\n",
    "                # Vect is the original vector only at last step, \n",
    "                # at first step is a 1 or 2 element list\n",
    "                vect[k] = left_half[i]\n",
    "                i = i + 1\n",
    "            else:\n",
    "                vect[k] = right_half[j]\n",
    "                j = j + 1\n",
    "            k = k + 1\n",
    "\n",
    "        # If in firsts position we have \"used\" elements of right half, \n",
    "        # then last elements will belong to the left half\n",
    "        while i < len(left_half):\n",
    "            vect[k] = left_half[i]\n",
    "            i = i + 1\n",
    "            k = k + 1\n",
    "\n",
    "        while j < len(right_half):\n",
    "            vect[k] = right_half[j]\n",
    "            j = j + 1\n",
    "            k = k + 1\n",
    "    # print(\"Merging \", vect)\n",
    "    return"
   ]
  },
  {
   "cell_type": "code",
   "execution_count": 23,
   "id": "06bbd467",
   "metadata": {},
   "outputs": [
    {
     "name": "stdout",
     "output_type": "stream",
     "text": [
      "[30, 75, 69, 16, 47, 77, 60, 80, 74, 8]\n"
     ]
    }
   ],
   "source": [
    "random.seed(3)\n",
    "vect_test = random.sample(range(0, 100), 10)\n",
    "print(vect_test)"
   ]
  },
  {
   "cell_type": "code",
   "execution_count": 24,
   "id": "8f0bd30b",
   "metadata": {},
   "outputs": [
    {
     "data": {
      "text/plain": [
       "[8, 16, 30, 47, 60, 69, 74, 75, 77, 80]"
      ]
     },
     "execution_count": 24,
     "metadata": {},
     "output_type": "execute_result"
    }
   ],
   "source": [
    "merge_sort(vect_test)\n",
    "vect_test"
   ]
  },
  {
   "cell_type": "markdown",
   "id": "3391e361",
   "metadata": {},
   "source": [
    "## Benchmarking"
   ]
  },
  {
   "cell_type": "markdown",
   "id": "2d7214f6",
   "metadata": {},
   "source": [
    "The return value is seconds as a float, according to the documentation of the timeit package"
   ]
  },
  {
   "cell_type": "code",
   "execution_count": 25,
   "id": "9ee83e55",
   "metadata": {},
   "outputs": [],
   "source": [
    "def benchmark_sorting(method, nr_vectors, vect_length, upper_bound = 10000, lower_bound = 0):\n",
    "    \n",
    "    methods = [\"bubble\", \"insertion\", \"selection\", \"merge\"]\n",
    "    if method not in methods:\n",
    "        print(\"Argument method should be one of: \" + ', '.join(methods))\n",
    "        return None\n",
    "    \n",
    "    for one_iteration in range(nr_vectors):\n",
    "        \n",
    "        random.seed(one_iteration)\n",
    "        vect_test = random.sample(range(lower_bound, upper_bound), vect_length)\n",
    "        \n",
    "        call = method + \"_sort\"\n",
    "        eval(call)(vect_test)\n",
    "        \n",
    "    return"
   ]
  },
  {
   "cell_type": "code",
   "execution_count": 26,
   "id": "6539f632",
   "metadata": {},
   "outputs": [
    {
     "name": "stdout",
     "output_type": "stream",
     "text": [
      "Time taken by bubble sort is 23.0889 seconds.\n",
      "Time taken by insertion sort is 13.8049 seconds.\n",
      "Time taken by selection sort is 9.0386 seconds.\n",
      "Time taken by merge sort is 1.0379 seconds.\n"
     ]
    }
   ],
   "source": [
    "all_methods = [\"bubble\", \"insertion\", \"selection\", \"merge\"]\n",
    "nr_vectors, vect_length = 100, 1000\n",
    "\n",
    "for method in all_methods:\n",
    "    \n",
    "    time = timeit.timeit(stmt = 'benchmark_sorting(method, nr_vectors, vect_length)',\n",
    "                         setup = 'from __main__ import benchmark_sorting',\n",
    "                         number = 1,\n",
    "                         globals = locals())\n",
    "\n",
    "    print(\"Time taken by \" + method + \" sort is \" + str(round(time, 4)) + \" seconds.\")"
   ]
  },
  {
   "cell_type": "markdown",
   "id": "f7e123eb",
   "metadata": {},
   "source": [
    "## Graphical Results"
   ]
  },
  {
   "cell_type": "code",
   "execution_count": 42,
   "id": "684f1b30",
   "metadata": {},
   "outputs": [],
   "source": [
    "nr_vectors = 5\n",
    "all_vect_length = [10**x for x in range(1, 5)] # computational constraints may arise depending on one pc's architecture\n",
    "all_methods = [\"bubble\", \"insertion\", \"selection\", \"merge\"]\n",
    "results = pd.DataFrame(columns = all_methods, index = all_vect_length)"
   ]
  },
  {
   "cell_type": "code",
   "execution_count": 43,
   "id": "ef8f6d19",
   "metadata": {},
   "outputs": [],
   "source": [
    "for one_vect_length in all_vect_length:\n",
    "    for one_method in all_methods:\n",
    "        time = timeit.timeit(stmt = 'benchmark_sorting(one_method, nr_vectors, one_vect_length)',\n",
    "                             setup = 'from __main__ import benchmark_sorting',\n",
    "                             number = 1,\n",
    "                             globals = locals())\n",
    "        \n",
    "        # print(\"Time taken by \" + one_method + \" sort with n = \" + str(one_vect_length) + \" is \" + str(round(time, 4)) + \" seconds.\")\n",
    "        results.loc[one_vect_length, one_method] = time"
   ]
  },
  {
   "cell_type": "code",
   "execution_count": 44,
   "id": "6ff77eac",
   "metadata": {},
   "outputs": [
    {
     "data": {
      "text/html": [
       "<div>\n",
       "<style scoped>\n",
       "    .dataframe tbody tr th:only-of-type {\n",
       "        vertical-align: middle;\n",
       "    }\n",
       "\n",
       "    .dataframe tbody tr th {\n",
       "        vertical-align: top;\n",
       "    }\n",
       "\n",
       "    .dataframe thead th {\n",
       "        text-align: right;\n",
       "    }\n",
       "</style>\n",
       "<table border=\"1\" class=\"dataframe\">\n",
       "  <thead>\n",
       "    <tr style=\"text-align: right;\">\n",
       "      <th></th>\n",
       "      <th>bubble</th>\n",
       "      <th>insertion</th>\n",
       "      <th>selection</th>\n",
       "      <th>merge</th>\n",
       "    </tr>\n",
       "  </thead>\n",
       "  <tbody>\n",
       "    <tr>\n",
       "      <th>10</th>\n",
       "      <td>0.001281</td>\n",
       "      <td>0.000479</td>\n",
       "      <td>0.000582</td>\n",
       "      <td>0.000703</td>\n",
       "    </tr>\n",
       "    <tr>\n",
       "      <th>100</th>\n",
       "      <td>0.015258</td>\n",
       "      <td>0.012852</td>\n",
       "      <td>0.007525</td>\n",
       "      <td>0.007484</td>\n",
       "    </tr>\n",
       "    <tr>\n",
       "      <th>1000</th>\n",
       "      <td>1.228504</td>\n",
       "      <td>0.692454</td>\n",
       "      <td>0.468208</td>\n",
       "      <td>0.052609</td>\n",
       "    </tr>\n",
       "    <tr>\n",
       "      <th>10000</th>\n",
       "      <td>122.650965</td>\n",
       "      <td>75.562321</td>\n",
       "      <td>48.230598</td>\n",
       "      <td>0.659848</td>\n",
       "    </tr>\n",
       "  </tbody>\n",
       "</table>\n",
       "</div>"
      ],
      "text/plain": [
       "           bubble  insertion  selection     merge\n",
       "10       0.001281   0.000479   0.000582  0.000703\n",
       "100      0.015258   0.012852   0.007525  0.007484\n",
       "1000     1.228504   0.692454   0.468208  0.052609\n",
       "10000  122.650965  75.562321  48.230598  0.659848"
      ]
     },
     "execution_count": 44,
     "metadata": {},
     "output_type": "execute_result"
    }
   ],
   "source": [
    "results"
   ]
  },
  {
   "cell_type": "code",
   "execution_count": 47,
   "id": "86650db6",
   "metadata": {},
   "outputs": [],
   "source": [
    "# p = results.plot(kind = 'line', title = 'Time complexity of sorting algorithms')\n",
    "# p.set_xlabel(\"Length of Vector\")\n",
    "# p.set_ylabel(\"Time Elapsed\")\n",
    "# p.set_xticks(all_vect_length)"
   ]
  },
  {
   "cell_type": "markdown",
   "id": "9c05d70b",
   "metadata": {},
   "source": [
    "<img src=\"Images\\results.png\" width = 600 height = 350 align = \"left\">"
   ]
  },
  {
   "cell_type": "markdown",
   "id": "4594aaf5",
   "metadata": {},
   "source": [
    "## Appendix: Big-O Notation"
   ]
  },
  {
   "cell_type": "markdown",
   "id": "ba3b6b89",
   "metadata": {},
   "source": [
    "Big O notation is a mathematical notation that describes the limiting behavior of a function when the argument tends towards infinity. \n",
    "\n",
    "It was invented by the mathematicians Edmund Landau et al. You may have encountered it in the Taylor's expansion series. \n",
    "\n",
    "In this case it's used to analyze how the run time requirements grow as the length of vector grows.\n",
    "\n",
    "Often the object of interest is the \"dominant\" part of an algorithm, but since the length of a vector is a finite number, also average and best running time will be considered."
   ]
  },
  {
   "cell_type": "markdown",
   "id": "3877f197",
   "metadata": {},
   "source": [
    "#### Comparisons"
   ]
  },
  {
   "cell_type": "markdown",
   "id": "daae9c4b",
   "metadata": {},
   "source": [
    "| Algorithm | Average Performance | Worst Case | Best Case |\n",
    "| --- | --- | --- | --- |\n",
    "| Bubble | $O(n^2)$ | $O(n^2)$ | $O(n)$ |\n",
    "| Selection | $O(n^2)$ | $O(n^2)$ | $O(n^2)$ |\n",
    "| Insertion | $O(n^2)$ | $O(n^2)$ | $O(n)$ |\n",
    "| Merge | $O(n\\log{}n)$ | $O(n\\log{}n)$ | $O(n log n)$ |"
   ]
  },
  {
   "cell_type": "markdown",
   "id": "7dd96d34",
   "metadata": {},
   "source": [
    "#### Swaps"
   ]
  },
  {
   "cell_type": "markdown",
   "id": "b32492db",
   "metadata": {},
   "source": [
    "| Algorithm | Average Performance | Worst Case | Best Case |\n",
    "| --- | --- | --- | --- |\n",
    "| Bubble | $O(n^2)$ | $O(n^2)$ | $O(1)$ |\n",
    "| Selection |$O(n)$ | $O(n)$ | $O(1)$ |\n",
    "| Insertion | $O(n^2)$ | $O(n^2)$ | $O(1)$ |"
   ]
  },
  {
   "cell_type": "markdown",
   "id": "f3f34366",
   "metadata": {},
   "source": [
    "## Conclusions"
   ]
  },
  {
   "cell_type": "markdown",
   "id": "efbeb44c",
   "metadata": {},
   "source": [
    "Based both on theoritical results and empirical evidence, we can state that:\n",
    "* Merge sort is the fastest algorithm.\n",
    "* Insertion and Selection sort performs similarly.\n",
    "* Bubble sort performs the worst."
   ]
  },
  {
   "cell_type": "markdown",
   "id": "9db6a8eb",
   "metadata": {},
   "source": [
    "## Further developments\n",
    "\n",
    "Is it possible to expand the analysis above by considering other algorithms. \n",
    "\n",
    "The literature is very wide. Famous sorting methods not covered are:\n",
    "* Quick sort\n",
    "* Radix sort\n",
    "* Cocktail sort\n",
    "* Tim sort\n",
    "* Shell sort\n",
    "* Bucket sort\n",
    "\n",
    "Furthermore it's possible to introduce additional improvements like:\n",
    "* Early stopping (Bubble Sort)\n",
    "* Optimization of space requirement (Merge Sort)\n",
    "* Parallel computation to improve running times (not time complexity!)"
   ]
  },
  {
   "cell_type": "markdown",
   "id": "85cc0fb9",
   "metadata": {},
   "source": [
    "<center> <h3> Thank you for the attention! </h3> "
   ]
  }
 ],
 "metadata": {
  "kernelspec": {
   "display_name": "Python 3 (ipykernel)",
   "language": "python",
   "name": "python3"
  },
  "language_info": {
   "codemirror_mode": {
    "name": "ipython",
    "version": 3
   },
   "file_extension": ".py",
   "mimetype": "text/x-python",
   "name": "python",
   "nbconvert_exporter": "python",
   "pygments_lexer": "ipython3",
   "version": "3.8.8"
  }
 },
 "nbformat": 4,
 "nbformat_minor": 5
}
